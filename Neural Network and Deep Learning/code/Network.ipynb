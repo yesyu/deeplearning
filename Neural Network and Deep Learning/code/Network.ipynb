{
 "cells": [
  {
   "cell_type": "code",
   "execution_count": 3,
   "metadata": {
    "collapsed": true
   },
   "outputs": [],
   "source": [
    "import numpy as np"
   ]
  },
  {
   "cell_type": "code",
   "execution_count": 16,
   "metadata": {
    "collapsed": false
   },
   "outputs": [],
   "source": [
    "class Network(object):\n",
    "    def __init__(self,sizes):\n",
    "        self.num_layers=len(sizes)\n",
    "        self.sizes=sizes\n",
    "        self.biases=[np.random.randn(y,1) for y in sizes[1:]]#产生一个y行1列的矩阵，标准正态分布的，第一层没有偏置量\n",
    "        self.weights=[np.random.randn(y,x) for x,y in zip(sizes[:-1],sizes[1:])]#产生一个y行x列的矩阵,标准正态分布的\n",
    "\n",
    "    def sigmoid(z):\n",
    "        return 1.0/(1.0+np.exp(-z))\n",
    "    \n",
    "    #assume input a is an (n,1) Numpy ndarray\n",
    "    def feedback(self,a):\n",
    "        '''return the output of the network if \"a\" is input'''\n",
    "        for b,w in zip(self.bias,self.weights):\n",
    "            a=sigmoid(np.dot(w,a)+b)#np.dot(a,b),返回a*b\n",
    "        return a\n",
    "    \n",
    "    def SGD(self,training_data,epochs,mini_batch_size,eta,test_data=None):\n",
    "        '''training the neural network using mini-batch stochastic gradient descent. The \"training_data\" is a list of tuples \"(x,y)\" \n",
    "        representing the training inputs and the desired outputs. The other non-optional patameters are self-explanatory. if \"test_data\" is\n",
    "        provided then the network will be evaluated against the test data after each epoch, and the partial progress print out. This is useful\n",
    "        for tracking progress, but slows things down substantially'''\n",
    "        if test_data:n_test=len(test_data)\n",
    "        n=len(training_data)\n",
    "        for j in xrange(epochs):\n",
    "            random.shuffle(training_data)\n",
    "            mini_batches=[training_data[k:k+mini_batch_size]]\n",
    "            for mini_batch in mini_batches:\n",
    "                self.update_mini_batch(mini_batch,eta)#eta is the learning rate\n",
    "            if test_data:\n",
    "                print \"Epoch {0}:{1}/{2}\".format(j,self.evaluate(test_data),n_test)\n",
    "            else:\n",
    "                print \"Epoch {0} complete\".format(j)\n",
    "            \n",
    "    def update_mini_batch(self,mini_batch,era):\n",
    "        '''update the network's weights and biases by applying gradient descent using backpropagation to a single mini batch .\n",
    "        The \"mini-batch\" is a list of tuples \"(x,y)\", and \"eta\" is the learning rate '''\n",
    "        nabla_b=[np.zeros(b.shape) for b in self.biases]\n",
    "        nabla_b=[np.zeros(w.shape) for w in self.weights]\n",
    "        for x,y in mini_batch:\n",
    "            delta_nabla_b,delta_nabla_w=self.backprop(x,y)\n",
    "            nabla_b=[nb+dnb for nb,dnb in zip(nabla_b,delta_nabla_b)]\n",
    "            nabla_w=[nb+dnw for nb,dnw in zip(nabla_w,delta_nabla_w)]\n",
    "        self.weights=[w-(eta/len(mini_batch))*nw for w,nw in zip(self.weights,nabla_w)]\n",
    "        self.biases=[b-(eta/len(mini_batch))*nb for b,n in zip(self.biases,nabla_b)]\n",
    "    \n",
    "    def backprop(self,x,y):\n",
    "        \"\"\"Return a tuple ''(nabla_b,nabla_w)'' representing the gradient for the cost function C_x. ''nabla_b'' and ''nabla_w'' are\n",
    "        layer-by-layer lists of numpy arrays, similar to ''self.biases'' and ''self.weights''\"\"\"\n",
    "        nabla_b=[np.zeros(b.shape) for b in self.biases]\n",
    "        nabla_w=[np.zeros(w.shape) for w in self.weights]\n",
    "        #feedback\n",
    "        activation=x\n",
    "        activations=[x]#list to store all activations,layer by layer\n",
    "        zs=[]#list to store all the z vectores, layer by layer\n",
    "        for b,w in zip(self.biases,self.weights):\n",
    "            z=np.dot(w,activation)+b\n",
    "            zs.append(z)\n",
    "            activation=sigmoid(z)\n",
    "            activations.append(activation)\n",
    "        #backward pass\n",
    "        delta=self.cost_derivative(activations[-1],y)* \\\n",
    "            sigmoid_prime(zs[-1])\n",
    "        nabla_b[-1]=delta\n",
    "        nabla_w[-1]=np.dot(delta,activation[-2].transpose())\n",
    "        for l in xrange(2,self.num_layers):\n",
    "            z=zs[-l]\n",
    "            sp=sigmoid_prime(z)\n",
    "            delta=np.dot(self.weights[-l+1].transpose(),delta)*sp\n",
    "            nabla_b[-l]=delta\n",
    "            nabla_w[-l]=np.dot(delta,activations[-l-1].transpose())\n",
    "        return (nabla_b,nabla_w)\n",
    "    \n",
    "    def evaluate(self,test_data):\n",
    "        '''Return the number of test inputs for which the neural network outputs the correct result.\n",
    "        Note that the neural network's output is assumed to be the index of whichever neuron in the final layer has the highest activation'''\n",
    "        test_result=[(np.argmax(self.feedback(x)),y) for (x,y) in test_data]\n",
    "        return sum(int(x==y) for (x,y) in test_results)\n",
    "    \n",
    "    def cost_derivative(self,out_activations,y):\n",
    "        '''return the vector of partial derivatives \\partial C_x / \n",
    "        \\partial a for output activations'''\n",
    "        return(out_activations-y)\n",
    "    \n",
    "    #Miscellaneous functions\n",
    "    def sigmoid(z):\n",
    "        '''The sigmoid function'''\n",
    "        return 1.0/(1.0+np.exp(-z))\n",
    "    \n",
    "    def sigmoid_prime(z):\n",
    "        '''Derivative of the sigmoid function'''\n",
    "        return sigmoid(z)*(1-sigmoid(z))"
   ]
  },
  {
   "cell_type": "code",
   "execution_count": 8,
   "metadata": {
    "collapsed": false
   },
   "outputs": [],
   "source": [
    "#制造一个3层网，第一层2神经元，第二层3个神经元，第三层1个神经元\n",
    "net=Network([2,3,1])"
   ]
  },
  {
   "cell_type": "code",
   "execution_count": 25,
   "metadata": {
    "collapsed": false
   },
   "outputs": [
    {
     "name": "stdout",
     "output_type": "stream",
     "text": [
      "[array([[-1.73541681,  0.69902562],\n",
      "       [-1.55110533,  0.50592328],\n",
      "       [-1.33096689, -0.4043688 ]]), array([[ 0.9111584 ,  1.5848388 , -1.50763186]])]\n"
     ]
    }
   ],
   "source": [
    "print net.weights"
   ]
  },
  {
   "cell_type": "code",
   "execution_count": 27,
   "metadata": {
    "collapsed": false
   },
   "outputs": [
    {
     "name": "stdout",
     "output_type": "stream",
     "text": [
      "[[-1.73541681  0.69902562]\n",
      " [-1.55110533  0.50592328]\n",
      " [-1.33096689 -0.4043688 ]]\n"
     ]
    }
   ],
   "source": [
    "print net.weights[0]#np.random.randn(3,2)"
   ]
  },
  {
   "cell_type": "code",
   "execution_count": 29,
   "metadata": {
    "collapsed": false
   },
   "outputs": [
    {
     "name": "stdout",
     "output_type": "stream",
     "text": [
      "[[ 0.9111584   1.5848388  -1.50763186]]\n"
     ]
    }
   ],
   "source": [
    "print net.weights[1]#np.random.randn(1,3)"
   ]
  },
  {
   "cell_type": "code",
   "execution_count": 4,
   "metadata": {
    "collapsed": false
   },
   "outputs": [
    {
     "name": "stdout",
     "output_type": "stream",
     "text": [
      "0\n"
     ]
    }
   ],
   "source": [
    "print np.dot(2,0)"
   ]
  },
  {
   "cell_type": "code",
   "execution_count": 9,
   "metadata": {
    "collapsed": false
   },
   "outputs": [
    {
     "name": "stdout",
     "output_type": "stream",
     "text": [
      "[(1, 2), (2, 3), (3, 4)]\n"
     ]
    }
   ],
   "source": [
    "a=[1,2,3]\n",
    "b=[2,3,4]\n",
    "print zip(a,b)"
   ]
  }
 ],
 "metadata": {
  "anaconda-cloud": {},
  "kernelspec": {
   "display_name": "Python [default]",
   "language": "python",
   "name": "python2"
  },
  "language_info": {
   "codemirror_mode": {
    "name": "ipython",
    "version": 2
   },
   "file_extension": ".py",
   "mimetype": "text/x-python",
   "name": "python",
   "nbconvert_exporter": "python",
   "pygments_lexer": "ipython2",
   "version": "2.7.12"
  }
 },
 "nbformat": 4,
 "nbformat_minor": 1
}
